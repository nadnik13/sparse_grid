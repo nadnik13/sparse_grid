{
  "nbformat": 4,
  "nbformat_minor": 0,
  "metadata": {
    "colab": {
      "name": "BuiltSimpleGrig.ipynb",
      "provenance": [],
      "authorship_tag": "ABX9TyMIDWykf1hlFI9utT6//NKy",
      "include_colab_link": true
    },
    "kernelspec": {
      "name": "python3",
      "display_name": "Python 3"
    },
    "language_info": {
      "name": "python"
    }
  },
  "cells": [
    {
      "cell_type": "markdown",
      "metadata": {
        "id": "view-in-github",
        "colab_type": "text"
      },
      "source": [
        "<a href=\"https://colab.research.google.com/github/nadnik13/sparse_grid/blob/main/BuiltSimpleGrig.ipynb\" target=\"_parent\"><img src=\"https://colab.research.google.com/assets/colab-badge.svg\" alt=\"Open In Colab\"/></a>"
      ]
    },
    {
      "cell_type": "code",
      "execution_count": null,
      "metadata": {
        "id": "hsz7P7v7aQOt"
      },
      "outputs": [],
      "source": [
        "%tensorflow_version 2.x\n",
        "import tensorflow as tf\n",
        "import timeit\n",
        "import matplotlib.pyplot as plt\n",
        "import math\n",
        "import numpy as np\n",
        "from numba import cuda"
      ]
    },
    {
      "cell_type": "code",
      "source": [
        ""
      ],
      "metadata": {
        "id": "UxSLO1p-aQns"
      },
      "execution_count": null,
      "outputs": []
    },
    {
      "cell_type": "code",
      "source": [
        "n = 256\n",
        "\n",
        "blockdim = 16, 16\n",
        "griddim = int(n/blockdim[0]), int(n/blockdim[1])\n",
        "\n",
        "n = 4\n",
        "@cuda.jit( device=True)\n",
        "def fun(x:float) -> (float):\n",
        "    return math.sin(10 * x - 0.1)\n",
        "\n",
        "@cuda.jit( device=True)\n",
        "def xli(l: int, i: int) ->(float):\n",
        "    return i * (2 ** (-1. * l))\n",
        "\n",
        "@cuda.jit()\n",
        "def eval_a(grid_size, grid, a):\n",
        "    i = cuda.grid(1)\n",
        "    if i < grid_size:\n",
        "        e = grid[i]\n",
        "        temp = fun(xli(e[0], e[1]))\n",
        "        if e[0] == 1:\n",
        "            temp += -0.5 * (fun(xli(e[0], e[1]- 1)) + fun(xli(e[0], e[1] + 1)))\n",
        "        elif (e[1] % 4 == 1 and e[0] > 1):\n",
        "            temp += -0.125 * (3*fun(xli(e[0], e[1] - 1)) + 6*fun(xli(e[0], e[1] + 1)) - fun(xli(e[0], e[1] + 3)))\n",
        "        elif (e[1] % 4 == 3 and e[0] > 1):\n",
        "            temp += -0.125 * (3*fun(xli(e[0], e[1] + 1)) + 6*fun(xli(e[0], e[1] - 1)) - fun(xli(e[0], e[1] - 3)))\n",
        "#     print(f\"a = {e['a']}\")\n",
        "#         print(f\"e['l']={e[0]} e['i']={e[1]} a_recursion={temp}\")\n",
        "        a[i] = temp\n",
        "        "
      ],
      "metadata": {
        "id": "yeDoaeaKaQwU"
      },
      "execution_count": null,
      "outputs": []
    },
    {
      "cell_type": "code",
      "source": [
        "@cuda.jit( device=True)  \n",
        "def phi_1(x: float) -> (float):\n",
        "    if -1 <= x <= 1:\n",
        "        return 1 - abs(x)\n",
        "    return 0.\n",
        "\n",
        "@cuda.jit( device=True)   \n",
        "def phi_2(x: float) -> (float):\n",
        "    if -1 <= x <= 1:\n",
        "        return - (x-1)*(x+1)\n",
        "    return 0.\n",
        "\n",
        "@cuda.jit( device=True)\n",
        "def phi_li(l: int, i: int, x: float) -> (float):\n",
        "    if l == 0:\n",
        "        return phi_1(x * 2 ** l - i)\n",
        "    else:\n",
        "        return phi_2(x * 2 ** l - i)\n",
        "\n",
        "@cuda.jit()\n",
        "def eval_y(size, hx, grid_size, grid, a, y, err):\n",
        "    i = cuda.grid(1)\n",
        "    if i < size:\n",
        "        r = 0\n",
        "        x = i * hx\n",
        "        for j in range(grid_size):\n",
        "            e = grid[j]\n",
        "            r += a[j] * phi_li(e[0], e[1], x)\n",
        "        err[i] = r - fun(x)\n",
        "        y[i] = r"
      ],
      "metadata": {
        "id": "L7TuXT43a5EZ"
      },
      "execution_count": null,
      "outputs": []
    },
    {
      "cell_type": "code",
      "source": [
        "grid = [[1,1]]\n",
        "n = 5\n",
        "\n",
        "for e in grid:\n",
        "    if e[0] == n: #or abs(e['a']) < 1e-3:\n",
        "        continue\n",
        "    grid.append([e[0] + 1, 2 * e[1] - 1])\n",
        "    grid.append([e[0] + 1, 2 * e[1] + 1])\n",
        "\n",
        "grid.append([ 0, 0 ])\n",
        "grid.append([ 0, 1])\n",
        "\n",
        "grid_size = len(grid)\n",
        "print(grid_size)"
      ],
      "metadata": {
        "colab": {
          "base_uri": "https://localhost:8080/"
        },
        "id": "fDITqVQnbzDQ",
        "outputId": "b4041e52-2d7f-458a-aff5-cd459a65aa00"
      },
      "execution_count": null,
      "outputs": [
        {
          "output_type": "stream",
          "name": "stdout",
          "text": [
            "33\n"
          ]
        }
      ]
    },
    {
      "cell_type": "code",
      "source": [
        "def gpu_func(n):\n",
        "  # numba.cuda.device_array(shape, dtype=np.float, strides=None, order='C', stream=0)¶\n",
        "  # a = np.zeros(grid_size)\n",
        "  d_grid = cuda.to_device(grid)\n",
        "  # d_a = cuda.to_device(a)\n",
        "  d_a = cuda.device_array(shape = (grid_size), dtype=np.float)\n",
        "  cnt_points = 101\n",
        "  hx = 1. / (cnt_points-1)\n",
        "\n",
        "  err = np.zeros(cnt_points)\n",
        "  d_err = cuda.to_device(err)\n",
        "\n",
        "  # res_y = np.zeros(cnt_points)\n",
        "  d_y = cuda.device_array(shape = (cnt_points), dtype=np.float)\n",
        "\n",
        "  eval_a[griddim,blockdim](grid_size, d_grid, d_a1)\n",
        "  cuda.synchronize()\n",
        "\n",
        "  eval_y[griddim,blockdim](cnt_points, hx, grid_size, d_grid, d_a, d_y, d_err)\n",
        "  cuda.synchronize()"
      ],
      "metadata": {
        "id": "o3Zn1K6Za6jB"
      },
      "execution_count": null,
      "outputs": []
    },
    {
      "cell_type": "code",
      "source": [
        "#глобальные переменные \n",
        "grid = []\n",
        "n = 5\n",
        "cnt_points = 10001\n",
        "res_y = []"
      ],
      "metadata": {
        "id": "sCmoHeuJeMS0"
      },
      "execution_count": null,
      "outputs": []
    },
    {
      "cell_type": "code",
      "source": [
        "# Функция, которую строим\n",
        "def fun(x):\n",
        "    return math.sin(10 * x - 0.1)\n",
        "\n",
        "def xli(l, i):\n",
        "    return i * (2 ** (-l))\n",
        "\n",
        "def add_a(e):\n",
        "    e['a'] = fun(xli(e['l'], e['i']))\n",
        "#     print(f\"add_a: i={e['i']} l={e['l']} e['i'] // 4={e['i'] % 4} e['i'] // 3={e['i'] % 3}\")\n",
        "    if e['l'] == 1:\n",
        "        e['a'] += -0.5 * (fun(xli(e['l'], e['i']- 1)) + fun(xli(e['l'], e['i'] + 1)))\n",
        "    elif (e['i'] % 4 == 1 and e['l'] > 1):\n",
        "        e['a'] += -0.125 * (3*fun(xli(e['l'], e['i'] - 1)) + 6*fun(xli(e['l'], e['i'] + 1)) - fun(xli(e['l'], e['i'] + 3)))\n",
        "    elif (e['i'] % 4 == 3 and e['l'] > 1):\n",
        "        e['a'] += -0.125 * (3*fun(xli(e['l'], e['i'] + 1)) + 6*fun(xli(e['l'], e['i'] - 1)) - fun(xli(e['l'], e['i'] - 3)))\n",
        "#     print(f\"a = {e['a']}\")\n",
        "#     print(f\"e['l']={e['l']} e['i']={e['i']} a_recursion={e['a']}\")\n",
        "    return e\n",
        "\n",
        "def phi_li(l, i, x):\n",
        "    if l == 0:\n",
        "        return phi_1(x * 2 ** l - i)\n",
        "    else:\n",
        "        return phi_2(x * 2 ** l - i)\n",
        "\n",
        "#фи для краев\n",
        "def phi_1(x):\n",
        "    if -1 <= x <= 1:\n",
        "        return 1 - abs(x)\n",
        "    return 0\n",
        "\n",
        "#фи для внутренних точек\n",
        "def phi_2(x):\n",
        "    if -1 <= x <= 1:\n",
        "        return - (x-1)*(x+1)\n",
        "    return 0\n",
        "\n",
        "def eval(x):\n",
        "    r = 0\n",
        "    for e in grid:\n",
        "        r += e['a'] * phi_li(e['l'], e['i'], x)\n",
        "    return r\n",
        "\n",
        "\n",
        "def cpu_func(n, cnt_points):\n",
        "  grid = [add_a({'l': 1, 'i': 1})]\n",
        "  for e in grid:\n",
        "      if e['l'] == n: #or abs(e['a']) < 1e-3:\n",
        "          continue\n",
        "      grid.append(add_a({'l': e['l'] + 1, 'i': 2 * e['i'] - 1}))\n",
        "      grid.append(add_a({'l': e['l'] + 1, 'i': 2 * e['i'] + 1}))\n",
        "\n",
        "  grid.append(add_a({'l': 0, 'i': 0}))\n",
        "  grid.append(add_a({'l': 0, 'i': 1}))\n",
        "\n",
        "  error = 0\n",
        "  for i in range(cnt_points):\n",
        "      x = i * (1./cnt_points)\n",
        "      error = max(error, abs(eval(x) - fun(x)))\n",
        "      res_y.append(eval(x))\n",
        "      \n",
        "%timeit cpu_func(n, cnt_points)"
      ],
      "metadata": {
        "colab": {
          "base_uri": "https://localhost:8080/"
        },
        "id": "jg4vTknybBgn",
        "outputId": "e8609459-0fc9-4b81-a647-898499124a8a"
      },
      "execution_count": null,
      "outputs": [
        {
          "output_type": "stream",
          "name": "stdout",
          "text": [
            "100 loops, best of 5: 11.1 ms per loop\n"
          ]
        }
      ]
    },
    {
      "cell_type": "code",
      "source": [
        "def hfun(x):\n",
        "    temp = math.sin(10 * x - 0.1)\n",
        "    return temp\n",
        "\n",
        "def hxli(l, i):\n",
        "    return i * (2 ** (-1.*l))"
      ],
      "metadata": {
        "id": "NC4b_4zNa4gW"
      },
      "execution_count": null,
      "outputs": []
    },
    {
      "cell_type": "code",
      "source": [
        "xt = np.linspace(0,1,cnt_points)\n",
        "yt = [hfun(x) for x in np.linspace(0,1,cnt_points)]\n",
        "plt.plot(xt, yt, 'o')\n",
        "\n",
        "x = np.linspace(0,1,cnt_points)\n",
        "plt.plot(x, res_y)\n",
        "plt.show()"
      ],
      "metadata": {
        "colab": {
          "base_uri": "https://localhost:8080/",
          "height": 626
        },
        "id": "2O-llUFeemWp",
        "outputId": "dbe04b3f-5baf-4b2b-bea8-425e5f8f4c84"
      },
      "execution_count": null,
      "outputs": [
        {
          "output_type": "error",
          "ename": "ValueError",
          "evalue": "ignored",
          "traceback": [
            "\u001b[0;31m---------------------------------------------------------------------------\u001b[0m",
            "\u001b[0;31mValueError\u001b[0m                                Traceback (most recent call last)",
            "\u001b[0;32m<ipython-input-18-9c364ae3c7a0>\u001b[0m in \u001b[0;36m<module>\u001b[0;34m()\u001b[0m\n\u001b[1;32m      4\u001b[0m \u001b[0;34m\u001b[0m\u001b[0m\n\u001b[1;32m      5\u001b[0m \u001b[0mx\u001b[0m \u001b[0;34m=\u001b[0m \u001b[0mnp\u001b[0m\u001b[0;34m.\u001b[0m\u001b[0mlinspace\u001b[0m\u001b[0;34m(\u001b[0m\u001b[0;36m0\u001b[0m\u001b[0;34m,\u001b[0m\u001b[0;36m1\u001b[0m\u001b[0;34m,\u001b[0m\u001b[0mcnt_points\u001b[0m\u001b[0;34m)\u001b[0m\u001b[0;34m\u001b[0m\u001b[0;34m\u001b[0m\u001b[0m\n\u001b[0;32m----> 6\u001b[0;31m \u001b[0mplt\u001b[0m\u001b[0;34m.\u001b[0m\u001b[0mplot\u001b[0m\u001b[0;34m(\u001b[0m\u001b[0mx\u001b[0m\u001b[0;34m,\u001b[0m \u001b[0mres_y\u001b[0m\u001b[0;34m)\u001b[0m\u001b[0;34m\u001b[0m\u001b[0;34m\u001b[0m\u001b[0m\n\u001b[0m\u001b[1;32m      7\u001b[0m \u001b[0mplt\u001b[0m\u001b[0;34m.\u001b[0m\u001b[0mshow\u001b[0m\u001b[0;34m(\u001b[0m\u001b[0;34m)\u001b[0m\u001b[0;34m\u001b[0m\u001b[0;34m\u001b[0m\u001b[0m\n",
            "\u001b[0;32m/usr/local/lib/python3.7/dist-packages/matplotlib/pyplot.py\u001b[0m in \u001b[0;36mplot\u001b[0;34m(scalex, scaley, data, *args, **kwargs)\u001b[0m\n\u001b[1;32m   2761\u001b[0m     return gca().plot(\n\u001b[1;32m   2762\u001b[0m         *args, scalex=scalex, scaley=scaley, **({\"data\": data} if data\n\u001b[0;32m-> 2763\u001b[0;31m         is not None else {}), **kwargs)\n\u001b[0m\u001b[1;32m   2764\u001b[0m \u001b[0;34m\u001b[0m\u001b[0m\n\u001b[1;32m   2765\u001b[0m \u001b[0;34m\u001b[0m\u001b[0m\n",
            "\u001b[0;32m/usr/local/lib/python3.7/dist-packages/matplotlib/axes/_axes.py\u001b[0m in \u001b[0;36mplot\u001b[0;34m(self, scalex, scaley, data, *args, **kwargs)\u001b[0m\n\u001b[1;32m   1645\u001b[0m         \"\"\"\n\u001b[1;32m   1646\u001b[0m         \u001b[0mkwargs\u001b[0m \u001b[0;34m=\u001b[0m \u001b[0mcbook\u001b[0m\u001b[0;34m.\u001b[0m\u001b[0mnormalize_kwargs\u001b[0m\u001b[0;34m(\u001b[0m\u001b[0mkwargs\u001b[0m\u001b[0;34m,\u001b[0m \u001b[0mmlines\u001b[0m\u001b[0;34m.\u001b[0m\u001b[0mLine2D\u001b[0m\u001b[0;34m)\u001b[0m\u001b[0;34m\u001b[0m\u001b[0;34m\u001b[0m\u001b[0m\n\u001b[0;32m-> 1647\u001b[0;31m         \u001b[0mlines\u001b[0m \u001b[0;34m=\u001b[0m \u001b[0;34m[\u001b[0m\u001b[0;34m*\u001b[0m\u001b[0mself\u001b[0m\u001b[0;34m.\u001b[0m\u001b[0m_get_lines\u001b[0m\u001b[0;34m(\u001b[0m\u001b[0;34m*\u001b[0m\u001b[0margs\u001b[0m\u001b[0;34m,\u001b[0m \u001b[0mdata\u001b[0m\u001b[0;34m=\u001b[0m\u001b[0mdata\u001b[0m\u001b[0;34m,\u001b[0m \u001b[0;34m**\u001b[0m\u001b[0mkwargs\u001b[0m\u001b[0;34m)\u001b[0m\u001b[0;34m]\u001b[0m\u001b[0;34m\u001b[0m\u001b[0;34m\u001b[0m\u001b[0m\n\u001b[0m\u001b[1;32m   1648\u001b[0m         \u001b[0;32mfor\u001b[0m \u001b[0mline\u001b[0m \u001b[0;32min\u001b[0m \u001b[0mlines\u001b[0m\u001b[0;34m:\u001b[0m\u001b[0;34m\u001b[0m\u001b[0;34m\u001b[0m\u001b[0m\n\u001b[1;32m   1649\u001b[0m             \u001b[0mself\u001b[0m\u001b[0;34m.\u001b[0m\u001b[0madd_line\u001b[0m\u001b[0;34m(\u001b[0m\u001b[0mline\u001b[0m\u001b[0;34m)\u001b[0m\u001b[0;34m\u001b[0m\u001b[0;34m\u001b[0m\u001b[0m\n",
            "\u001b[0;32m/usr/local/lib/python3.7/dist-packages/matplotlib/axes/_base.py\u001b[0m in \u001b[0;36m__call__\u001b[0;34m(self, *args, **kwargs)\u001b[0m\n\u001b[1;32m    214\u001b[0m                 \u001b[0mthis\u001b[0m \u001b[0;34m+=\u001b[0m \u001b[0margs\u001b[0m\u001b[0;34m[\u001b[0m\u001b[0;36m0\u001b[0m\u001b[0;34m]\u001b[0m\u001b[0;34m,\u001b[0m\u001b[0;34m\u001b[0m\u001b[0;34m\u001b[0m\u001b[0m\n\u001b[1;32m    215\u001b[0m                 \u001b[0margs\u001b[0m \u001b[0;34m=\u001b[0m \u001b[0margs\u001b[0m\u001b[0;34m[\u001b[0m\u001b[0;36m1\u001b[0m\u001b[0;34m:\u001b[0m\u001b[0;34m]\u001b[0m\u001b[0;34m\u001b[0m\u001b[0;34m\u001b[0m\u001b[0m\n\u001b[0;32m--> 216\u001b[0;31m             \u001b[0;32myield\u001b[0m \u001b[0;32mfrom\u001b[0m \u001b[0mself\u001b[0m\u001b[0;34m.\u001b[0m\u001b[0m_plot_args\u001b[0m\u001b[0;34m(\u001b[0m\u001b[0mthis\u001b[0m\u001b[0;34m,\u001b[0m \u001b[0mkwargs\u001b[0m\u001b[0;34m)\u001b[0m\u001b[0;34m\u001b[0m\u001b[0;34m\u001b[0m\u001b[0m\n\u001b[0m\u001b[1;32m    217\u001b[0m \u001b[0;34m\u001b[0m\u001b[0m\n\u001b[1;32m    218\u001b[0m     \u001b[0;32mdef\u001b[0m \u001b[0mget_next_color\u001b[0m\u001b[0;34m(\u001b[0m\u001b[0mself\u001b[0m\u001b[0;34m)\u001b[0m\u001b[0;34m:\u001b[0m\u001b[0;34m\u001b[0m\u001b[0;34m\u001b[0m\u001b[0m\n",
            "\u001b[0;32m/usr/local/lib/python3.7/dist-packages/matplotlib/axes/_base.py\u001b[0m in \u001b[0;36m_plot_args\u001b[0;34m(self, tup, kwargs)\u001b[0m\n\u001b[1;32m    340\u001b[0m \u001b[0;34m\u001b[0m\u001b[0m\n\u001b[1;32m    341\u001b[0m         \u001b[0;32mif\u001b[0m \u001b[0mx\u001b[0m\u001b[0;34m.\u001b[0m\u001b[0mshape\u001b[0m\u001b[0;34m[\u001b[0m\u001b[0;36m0\u001b[0m\u001b[0;34m]\u001b[0m \u001b[0;34m!=\u001b[0m \u001b[0my\u001b[0m\u001b[0;34m.\u001b[0m\u001b[0mshape\u001b[0m\u001b[0;34m[\u001b[0m\u001b[0;36m0\u001b[0m\u001b[0;34m]\u001b[0m\u001b[0;34m:\u001b[0m\u001b[0;34m\u001b[0m\u001b[0;34m\u001b[0m\u001b[0m\n\u001b[0;32m--> 342\u001b[0;31m             raise ValueError(f\"x and y must have same first dimension, but \"\n\u001b[0m\u001b[1;32m    343\u001b[0m                              f\"have shapes {x.shape} and {y.shape}\")\n\u001b[1;32m    344\u001b[0m         \u001b[0;32mif\u001b[0m \u001b[0mx\u001b[0m\u001b[0;34m.\u001b[0m\u001b[0mndim\u001b[0m \u001b[0;34m>\u001b[0m \u001b[0;36m2\u001b[0m \u001b[0;32mor\u001b[0m \u001b[0my\u001b[0m\u001b[0;34m.\u001b[0m\u001b[0mndim\u001b[0m \u001b[0;34m>\u001b[0m \u001b[0;36m2\u001b[0m\u001b[0;34m:\u001b[0m\u001b[0;34m\u001b[0m\u001b[0;34m\u001b[0m\u001b[0m\n",
            "\u001b[0;31mValueError\u001b[0m: x and y must have same first dimension, but have shapes (10001,) and (6110611,)"
          ]
        },
        {
          "output_type": "display_data",
          "data": {
            "image/png": "[encoded data removed]",
            "text/plain": [
              "<Figure size 432x288 with 1 Axes>"
            ]
          },
          "metadata": {
            "needs_background": "light"
          }
        }
      ]
    }
  ]
}