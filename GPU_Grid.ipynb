{
  "nbformat": 4,
  "nbformat_minor": 0,
  "metadata": {
    "colab": {
      "name": "GPU_Grid.ipynb",
      "provenance": [],
      "collapsed_sections": [
        "er3I-Nld3IKH"
      ],
      "authorship_tag": "ABX9TyMGATcNtE3IRbBGU1ewS/+2",
      "include_colab_link": true
    },
    "kernelspec": {
      "name": "python3",
      "display_name": "Python 3"
    },
    "language_info": {
      "name": "python"
    },
    "accelerator": "GPU"
  },
  "cells": [
    {
      "cell_type": "markdown",
      "metadata": {
        "id": "view-in-github",
        "colab_type": "text"
      },
      "source": [
        "<a href=\"https://colab.research.google.com/github/nadnik13/sparse_grid/blob/main/GPU_Grid.ipynb\" target=\"_parent\"><img src=\"https://colab.research.google.com/assets/colab-badge.svg\" alt=\"Open In Colab\"/></a>"
      ]
    },
    {
      "cell_type": "markdown",
      "source": [
        "Create GRID 1D"
      ],
      "metadata": {
        "id": "W-6y_8Ou4B79"
      }
    },
    {
      "cell_type": "code",
      "source": [
        "import matplotlib.pyplot as plt\n",
        "from mpl_toolkits.mplot3d import Axes3D\n",
        "import numpy as np\n",
        "import math\n",
        "import sys\n",
        "from numba import cuda"
      ],
      "metadata": {
        "id": "ANYYZNr84GTJ"
      },
      "execution_count": null,
      "outputs": []
    },
    {
      "cell_type": "code",
      "execution_count": null,
      "metadata": {
        "id": "zPsOJ0UM24XL"
      },
      "outputs": [],
      "source": [
        "fdim = 1\n",
        "grid_level = 7\n",
        "n_points = 100\n",
        "grid_type = \"full\""
      ]
    },
    {
      "cell_type": "code",
      "source": [
        "@cuda.jit('float64(float64)', device=True)\n",
        "def fun_gpu(x):\n",
        "    return math.sin(10 * x - 0.1)"
      ],
      "metadata": {
        "id": "SQeHbZDN26zT"
      },
      "execution_count": null,
      "outputs": []
    },
    {
      "cell_type": "code",
      "source": [
        "@cuda.jit('float64(int32, int32)', device=True)\n",
        "def xli_gpu(l, i):\n",
        "    return i * (2. ** (-l))"
      ],
      "metadata": {
        "id": "PJ80X7E928zI"
      },
      "execution_count": null,
      "outputs": []
    },
    {
      "cell_type": "code",
      "source": [
        "@cuda.jit('float64(float64)', device=True)\n",
        "def phi_1_gpu(x):\n",
        "    if -1 <= x <= 1:\n",
        "        return 1 - abs(x)\n",
        "    return 0\n",
        "@cuda.jit('float64(float64)', device=True)\n",
        "def phi_2_gpu(x):\n",
        "    if -1 <= x <= 1:\n",
        "        return - (x-1)*(x+1)\n",
        "    return 0\n",
        "\n",
        "@cuda.jit('float64(int32, int32, float64)', device=True)\n",
        "def phi_li_gpu(l, i, x):\n",
        "    if l == 0:\n",
        "        return phi_1_gpu(x * 2. ** l - i)\n",
        "    else:\n",
        "        return phi_2_gpu(x * 2. ** l - i)"
      ],
      "metadata": {
        "id": "b4MndPHa2-5C"
      },
      "execution_count": null,
      "outputs": []
    },
    {
      "cell_type": "code",
      "source": [
        "def add_a_cpu(e, fvals):\n",
        "    e['a'] = fvals[e['l']][e['i']]\n",
        "#     print(f\"add_a: i={e['i']} l={e['l']} e['i'] // 4={e['i'] % 4} e['i'] // 3={e['i'] % 3}\")\n",
        "    if e['l'] == 1:\n",
        "        e['a'] += -0.5 * (fvals[e['l']][e['i']- 1] + fvals[e['l']][e['i'] + 1])\n",
        "    elif (e['i'] % 4 == 1 and e['l'] > 1):\n",
        "        e['a'] += -0.125 * (3*fvals[e['l']][e['i'] - 1] + 6*fvals[e['l']][e['i'] + 1] - fvals[e['l']][e['i'] + 3])\n",
        "    elif (e['i'] % 4 == 3 and e['l'] > 1):\n",
        "        e['a'] += -0.125 * (3*fvals[e['l']][e['i'] + 1] + 6*fvals[e['l']][e['i'] - 1] - fvals[e['l']][e['i'] - 3])\n",
        "#     print(f\"a = {e['a']}\")\n",
        "    # print(f\"e['l']={e['l']} e['i']={e['i']} a_recursion={e['a']}\")\n",
        "    return e"
      ],
      "metadata": {
        "id": "p-sKZEyY3Aac"
      },
      "execution_count": null,
      "outputs": []
    },
    {
      "cell_type": "code",
      "source": [
        ""
      ],
      "metadata": {
        "colab": {
          "base_uri": "https://localhost:8080/"
        },
        "id": "sochyaAD55a1",
        "outputId": "b574d2fe-131b-48aa-cca2-b32937da2758"
      },
      "execution_count": null,
      "outputs": [
        {
          "output_type": "stream",
          "name": "stdout",
          "text": [
            "0 0\n"
          ]
        },
        {
          "output_type": "execute_result",
          "data": {
            "text/plain": [
              "{'a': -0.09983341664682815, 'i': 0, 'l': 0}"
            ]
          },
          "metadata": {},
          "execution_count": 22
        }
      ]
    },
    {
      "cell_type": "markdown",
      "source": [
        "# Считаем значения функций на gpu"
      ],
      "metadata": {
        "id": "5WW0o-Rq3ZEG"
      }
    },
    {
      "cell_type": "code",
      "source": [
        "@cuda.jit('void(float64[:, :])')\n",
        "def func_gpu(func_xli):\n",
        "    i = cuda.blockIdx.x * cuda.blockDim.x + cuda.threadIdx.x # Отображение потока на индекс массива\n",
        "    j = cuda.blockIdx.y * cuda.blockDim.y + cuda.threadIdx.y # Отображение потока на индекс массива\n",
        "    if (i >= func_xli.shape[0]) or (j >= func_xli.shape[1]):\n",
        "      return\n",
        "\n",
        "    func_xli[i][j] = fun_gpu(xli_gpu(i, j))"
      ],
      "metadata": {
        "id": "8EVk3vvT3Ycy"
      },
      "execution_count": null,
      "outputs": []
    },
    {
      "cell_type": "code",
      "source": [
        "max_l = grid_level + 1\n",
        "max_i = 2**grid_level + 1\n",
        "\n",
        "n = (max_l, max_i)\n",
        "\n",
        "d_points = cuda.device_array_like(np.zeros((max_l, max_i)))\n",
        "\n",
        "tpb = (32, 32)  #blocksize или количество потоков на блок, стандартное значение = 32\n",
        "bpg = (int(np.ceil((n[0])/tpb[0])), int(np.ceil((n[1])/tpb[1])) )  # блоков на грид\n",
        "\n",
        "func_gpu[bpg, tpb](d_points) # вызов ядра\n",
        "\n",
        "# Перенос вывода с устройства на хост\n",
        "fvals = d_points.copy_to_host()"
      ],
      "metadata": {
        "id": "HUlnc6Rs3gay"
      },
      "execution_count": null,
      "outputs": []
    },
    {
      "cell_type": "code",
      "source": [
        "2**grid_level + 1"
      ],
      "metadata": {
        "colab": {
          "base_uri": "https://localhost:8080/"
        },
        "id": "bOSfqZVL6VDB",
        "outputId": "b202af8d-0d01-454e-8ee4-4834f5c3b119"
      },
      "execution_count": null,
      "outputs": [
        {
          "output_type": "execute_result",
          "data": {
            "text/plain": [
              "129"
            ]
          },
          "metadata": {},
          "execution_count": 36
        }
      ]
    },
    {
      "cell_type": "markdown",
      "source": [
        "# Generate grid"
      ],
      "metadata": {
        "id": "er3I-Nld3IKH"
      }
    },
    {
      "cell_type": "code",
      "source": [
        "def buildGrid_cpu(grid_level, fvals):\n",
        "    grid=[]\n",
        "\n",
        "    grid = [add_a_cpu({'l': 1, 'i': 1},fvals)]\n",
        "    for e in grid:\n",
        "      if e['l'] == grid_level: #or abs(e['a']) < 1e-3:\n",
        "          continue\n",
        "      grid.append(add_a_cpu({'l': e['l'] + 1, 'i': 2 * e['i'] - 1}, fvals))\n",
        "      grid.append(add_a_cpu({'l': e['l'] + 1, 'i': 2 * e['i'] + 1}, fvals))\n",
        "\n",
        "    grid.append(add_a_cpu({'l': 0, 'i': 0},fvals))\n",
        "    grid.append(add_a_cpu({'l': 0, 'i': 1},fvals))\n",
        "    return grid.copy()"
      ],
      "metadata": {
        "id": "tcDclLRl3Onc"
      },
      "execution_count": null,
      "outputs": []
    },
    {
      "cell_type": "code",
      "source": [
        "# buildGrid_cpu(3,points)"
      ],
      "metadata": {
        "id": "FUEFJSXm3QmI"
      },
      "execution_count": null,
      "outputs": []
    },
    {
      "cell_type": "code",
      "source": [
        "def prepareGrid(grid, fdim):\n",
        "  grid_l = []\n",
        "  grid_i = []\n",
        "  grid_a = []\n",
        "\n",
        "  for i in grid:\n",
        "    grid_l.append(i['l'])\n",
        "    grid_i.append(i['i'])\n",
        "    grid_a.append(i['a'])\n",
        "  \n",
        "  grid_l = np.array(grid_l)\n",
        "  grid_i = np.array(grid_i)\n",
        "  grid_a = np.array(grid_a)\n",
        "\n",
        "  if fdim > 1:\n",
        "    grid_l = grid_l.reshape(-1,fdim)\n",
        "    grid_i = grid_i.reshape(-1,fdim)\n",
        "    grid_a = grid_a.reshape(-1,fdim)\n",
        "  return grid_l, grid_i, grid_a"
      ],
      "metadata": {
        "id": "-kgehIr63pey"
      },
      "execution_count": null,
      "outputs": []
    },
    {
      "cell_type": "code",
      "source": [
        "grid = buildGrid_cpu(grid_level, fvals)\n",
        "grid_l, grid_i, grid_a = prepareGrid(grid,1)"
      ],
      "metadata": {
        "id": "5evkZNVH3ssc"
      },
      "execution_count": null,
      "outputs": []
    },
    {
      "cell_type": "code",
      "source": [
        "grid_l.shape, grid_i.shape, grid_a.shape"
      ],
      "metadata": {
        "colab": {
          "base_uri": "https://localhost:8080/"
        },
        "id": "4Eib1QX83vCC",
        "outputId": "be032d9b-023c-46c3-ee47-875dea035c03"
      },
      "execution_count": null,
      "outputs": [
        {
          "output_type": "execute_result",
          "data": {
            "text/plain": [
              "((129,), (129,), (129,))"
            ]
          },
          "metadata": {},
          "execution_count": 40
        }
      ]
    },
    {
      "cell_type": "code",
      "source": [
        "@cuda.jit('void(int32[:], int32[:], float64[:], float64[:, :], float64[:])')\n",
        "def eval_gpu(grid_l, grid_i, grid_a, r, x):\n",
        "    i = cuda.blockIdx.x * cuda.blockDim.x + cuda.threadIdx.x # Отображение потока на индекс массива\n",
        "    j = cuda.blockIdx.y * cuda.blockDim.y + cuda.threadIdx.y # Отображение потока на индекс массива\n",
        "    if (i >= r.size):\n",
        "      return\n",
        "    r[i][j] = grid_a[j] * phi_li_gpu(grid_l[j], grid_i[j], x[i])"
      ],
      "metadata": {
        "id": "JYSng_oa6po2"
      },
      "execution_count": null,
      "outputs": []
    },
    {
      "cell_type": "code",
      "source": [
        "from numba import cuda # Библиотека Nvidia для работы с GPU \n",
        "import numpy as np \n",
        "\n",
        "def run(n, x):\n",
        "  # Подробности об устройстве\n",
        "  # device = cuda.get_current_device()\n",
        "\n",
        "  # Перенос с хоста на устройство\n",
        "  d_grid_l = cuda.to_device(grid_l)  # Перенос данных в глобальную память GPU\n",
        "  d_grid_i = cuda.to_device(grid_i)  # Перенос данных в глобальную память GPU\n",
        "  d_grid_a = cuda.to_device(grid_a)  # Перенос данных в глобальную память GPU\n",
        "  d_r = cuda.device_array_like(np.zeros(n))\n",
        "\n",
        "  tpb = (32, 32)  #blocksize или количество потоков на блок, стандартное значение = 32\n",
        "  bpg = (int(np.ceil((n[0])/tpb[0])), int(np.ceil((n[1])/tpb[1])) )  # блоков на грид\n",
        "\n",
        "\n",
        "  eval_gpu[bpg, tpb](d_grid_l, d_grid_i, d_grid_a, d_r, x) # вызов ядра\n",
        "\n",
        "  # Перенос вывода с устройства на хост\n",
        "  r = d_r.copy_to_host()\n",
        "  return r\n",
        "\n",
        "x = np.linspace(0., 1., num=100)\n",
        "n = [n_points, grid_a.size]\n",
        "r = run(n, x)"
      ],
      "metadata": {
        "id": "vc7JNNn23xQY"
      },
      "execution_count": null,
      "outputs": []
    },
    {
      "cell_type": "code",
      "source": [
        "%timeit run(n, x)"
      ],
      "metadata": {
        "colab": {
          "base_uri": "https://localhost:8080/"
        },
        "id": "N0XiMEuC3y7x",
        "outputId": "146d3652-c83f-4435-9025-7c1a1992309e"
      },
      "execution_count": null,
      "outputs": [
        {
          "output_type": "stream",
          "name": "stdout",
          "text": [
            "100 loops, best of 5: 2.62 ms per loop\n"
          ]
        }
      ]
    },
    {
      "cell_type": "markdown",
      "source": [
        "# 3d_GPU_Grid.ipynb"
      ],
      "metadata": {
        "id": "T0l6WJdG6zXo"
      }
    },
    {
      "cell_type": "code",
      "source": [
        "grid_levels = [1,2,3,5,7]\n",
        "grid_level = 3\n",
        "basis_dimensions = [1,2,4] # basis dimension\n",
        "basis_dimension = 2 # basis dimension\n",
        "gridTypes = ['full', 'sparse']\n",
        "gridType = 'full'\n",
        "n_points = 10\n",
        "func_dimension = 3  # function dimension"
      ],
      "metadata": {
        "id": "8iV89vUW4BJx"
      },
      "execution_count": null,
      "outputs": []
    },
    {
      "cell_type": "code",
      "source": [
        "@cuda.jit('float64(float64[:])', device=True)\n",
        "def fun_gpu3(x):\n",
        "    return math.sin(5 * x[0]) + math.cos(6 * x[1]) + 0.01 * math.sin(10 * x[0] * x[1])\n",
        "\n",
        "def fun_cpu3(x):\n",
        "    return math.sin(5 * x[0]) + math.cos(6 * x[1]) + 0.01 * math.sin(10 * x[0] * x[1])"
      ],
      "metadata": {
        "id": "U9wZbVYj68qj"
      },
      "execution_count": null,
      "outputs": []
    },
    {
      "cell_type": "code",
      "source": [
        "@cuda.jit('float64(int32, int32)', device=True)\n",
        "def xli_gpu(l, i):\n",
        "    return i * (2. ** (-l))"
      ],
      "metadata": {
        "id": "fMQ_TNqr6-U0"
      },
      "execution_count": null,
      "outputs": []
    },
    {
      "cell_type": "code",
      "source": [
        "@cuda.jit('float64(float64)', device=True)\n",
        "def phi_1(x):\n",
        "    if -1 <= x <= 1:\n",
        "        return 1 - abs(x)\n",
        "    return 0\n",
        "\n",
        "@cuda.jit('float64(float64)', device=True)\n",
        "def phi_2(x):\n",
        "    if -1 <= x <= 1:\n",
        "        return - (x-1)*(x+1)\n",
        "    return 0\n",
        "\n",
        "@cuda.jit('float64(float64)', device=True)\n",
        "def phi_4_1(x):\n",
        "    if -1 <= x <= 3:\n",
        "        return - 1/6 * (x+1)*(x-1)*(x-2)*(x-3)\n",
        "    return 0\n",
        "\n",
        "@cuda.jit('float64(float64)', device=True)\n",
        "def phi_4_2(x):\n",
        "    if -3 <= x <= 1:\n",
        "        return - 1/6 * (x+3)*(x+2)*(x+1)*(x-1)\n",
        "    return 0\n",
        "\n",
        "@cuda.jit('float64(int32, int32, float64, int32)', device=True)\n",
        "def phi_li_1(l, i, x, db):\n",
        "    if db == 1:\n",
        "        return phi_1(x * 2 ** l - i)\n",
        "    return 0\n",
        "\n",
        "@cuda.jit('float64(int32, int32, float64, int32)', device=True)\n",
        "def phi_li_2(l, i, x, db):\n",
        "        if l == 0:\n",
        "            return phi_1(x * 2 ** l - i)\n",
        "        else:\n",
        "            return phi_2(x * 2 ** l - i)\n",
        "\n",
        "@cuda.jit('float64(int32, int32, float64, int32)', device=True)\n",
        "def phi_li_4(l, i, x, db):\n",
        "    if l == 0:\n",
        "        return phi_1(x * 2 ** l - i)\n",
        "    elif l == 1:\n",
        "        return phi_2(x * 2 ** l - i)\n",
        "    elif i % 4 == 1:\n",
        "        return phi_4_1(x * 2 ** l - i)\n",
        "    elif i % 4 == 3:\n",
        "        return phi_4_2(x * 2 ** l - i)\n",
        "    return 0\n",
        "\n",
        "@cuda.jit('float64(int32, int32, float64, int32)', device=True)\n",
        "def phi_li_gpu3(l, i, x, db):\n",
        "  if db == 1:\n",
        "    return phi_li_1(l, i, x, db)\n",
        "  if db == 2:\n",
        "    return phi_li_2(l, i, x, db)\n",
        "  if db == 4:\n",
        "    return phi_li_4(l, i, x, db)\n",
        "  return 0"
      ],
      "metadata": {
        "id": "DJzYHnqL7D8w"
      },
      "execution_count": null,
      "outputs": []
    },
    {
      "cell_type": "markdown",
      "source": [
        "# Считаем значения функций на gpu"
      ],
      "metadata": {
        "id": "9V7drupH7aFb"
      }
    },
    {
      "cell_type": "code",
      "source": [
        "@cuda.jit('void(float64[:, :, :])')\n",
        "def func_gpu(func_xli):\n",
        "    i = cuda.blockIdx.x * cuda.blockDim.x + cuda.threadIdx.x # Отображение потока на индекс массива\n",
        "    j = cuda.blockIdx.y * cuda.blockDim.y + cuda.threadIdx.y # Отображение потока на индекс массива\n",
        "    if (i >= func_xli.shape[0]) or (j >= func_xli.shape[1]):\n",
        "      return\n",
        "    for z in range(func_xli.shape[2]):\n",
        "      x = [xli_gpu(i, j), ]\n",
        "\n",
        "    func_xli[i][j][z] = fun_gpu3(xli_gpu(i, j))"
      ],
      "metadata": {
        "id": "5IbNAJkp7VG9"
      },
      "execution_count": null,
      "outputs": []
    },
    {
      "cell_type": "code",
      "source": [
        ""
      ],
      "metadata": {
        "id": "ljQ4kUl-_QMe"
      },
      "execution_count": null,
      "outputs": []
    },
    {
      "cell_type": "code",
      "source": [
        "def add_a_cpu3(e, bdim, fdim, fval):\n",
        "    if bdim == 1:\n",
        "        e['a'] =  alik_1d(e['l'], e['i'], 0, fdim)\n",
        "    if bdim == 2:\n",
        "        e['a'] =  alik_2d(e['l'], e['i'], 0, fdim)\n",
        "    if bdim == 4:\n",
        "        e['a'] =  alik_4d(e['l'], e['i'], 0, fdim)\n",
        "    return e\n",
        "\n",
        "def alik_1d(l, i, k, fdim):\n",
        "    if k == fdim:\n",
        "        x = [xli_cpu(l[j], i[j]) for j in range(fdim)]\n",
        "        return fun_cpu3(x)\n",
        "    else:\n",
        "        main_val = alik_1d(l,i,k+1, fdim)\n",
        "\n",
        "        if (i[k] > 0 ) and l[k] > 0:  \n",
        "            i_prev_1 = [val-1 if idx == k else val for idx, val in enumerate(i)]\n",
        "            i_next_1 = [val+1 if idx == k else val for idx, val in enumerate(i)]\n",
        "            return main_val - 0.5*(alik_1d(l,i_prev_1,k+1, fdim) + alik_1d(l,i_next_1,k+1, fdim))\n",
        "        else:\n",
        "            return main_val\n",
        "        \n",
        "def alik_2d(l, i, k, fdim):\n",
        "    if k == fdim:\n",
        "        x = [xli_cpu(l[j], i[j]) for j in range(fdim)]\n",
        "        return fun_cpu3(x)\n",
        "    else:\n",
        "        main_val = alik_2d(l,i,k+1,fdim)\n",
        "\n",
        "        if l[k] == 1 and i[k] > 0:\n",
        "            i_prev_1 =  [val-1 if idx == k else val for idx, val in enumerate(i)]\n",
        "            i_next_1 =  [val+1 if idx == k else val for idx, val in enumerate(i)]\n",
        "            return main_val - 0.5 * (alik_2d(l,i_prev_1,k+1, fdim) + alik_2d(l,i_next_1,k+1, fdim))\n",
        "        \n",
        "        if l[k] > 1:\n",
        "            i_prev_1 = [val-1 if idx == k else val for idx, val in enumerate(i)]\n",
        "            i_next_1 = [val+1 if idx == k else val for idx, val in enumerate(i)]\n",
        "\n",
        "            prev_1_val = alik_2d(l,i_prev_1,k+1, fdim)\n",
        "            next_1_val = alik_2d(l,i_next_1,k+1, fdim)\n",
        "            \n",
        "            if (i[k] % 4 == 1):\n",
        "                i_next_3 = [val+3 if idx == k else val for idx, val in enumerate(i)]\n",
        "                next_3_val = alik_2d(l,i_next_3,k+1, fdim)\n",
        "                return main_val - 0.125*(3*prev_1_val+6*next_1_val-next_3_val)\n",
        "            \n",
        "            if (i[k] % 4 == 3):\n",
        "                i_prev_3 = [val-3 if idx == k else val for idx, val in enumerate(i)]\n",
        "                prev_3_val = alik_2d(l,i_prev_3,k+1, fdim)\n",
        "                return main_val - 0.125*(6*prev_1_val+3*next_1_val-prev_3_val)\n",
        "        return main_val\n",
        "\n",
        "def alik_4d(l, i, k, fdim):\n",
        "\n",
        "    if k == fdim:\n",
        "        x = [xli_cpu(l[j], i[j]) for j in range(fdim)]\n",
        "        return fun_cpu3(x)\n",
        "    else:\n",
        "        main_val = alik_4d(l,i,k+1,fdim)\n",
        "        i_prev_1 = [val-1 if idx == k else val for idx, val in enumerate(i)]\n",
        "        i_next_1 = [val+1 if idx == k else val for idx, val in enumerate(i)]\n",
        "        \n",
        "        i_prev_3 = [val-3 if idx == k else val for idx, val in enumerate(i)]\n",
        "        i_next_3 = [val+3 if idx == k else val for idx, val in enumerate(i)]\n",
        "        \n",
        "        i_prev_5 = [val-5 if idx == k else val for idx, val in enumerate(i)]\n",
        "        i_next_5 = [val+5 if idx == k else val for idx, val in enumerate(i)]\n",
        "        \n",
        "        i_prev_7 = [val-7 if idx == k else val for idx, val in enumerate(i)]\n",
        "        i_next_7 = [val+7 if idx == k else val for idx, val in enumerate(i)]\n",
        "\n",
        "        if l[k] == 1 and i[k] > 0 :\n",
        "            return main_val - 0.5 * ( alik_4d(l,i_prev_1,k+1, fdim) + alik_4d(l,i_next_1,k+1, fdim) )\n",
        "        \n",
        "        if l[k] == 2:\n",
        "            prev_1_val = alik_4d(l,i_prev_1,k+1, fdim)\n",
        "            next_1_val = alik_4d(l,i_next_1,k+1, fdim)\n",
        "            \n",
        "            if (i[k] % 4 == 1):\n",
        "                next_3_val = alik_4d(l,i_next_3,k+1, fdim)\n",
        "                return main_val - 0.125 * (3*prev_1_val + 6*next_1_val - next_3_val)\n",
        "            \n",
        "            if (i[k] % 4 == 3):\n",
        "                prev_3_val = alik_4d(l,i_prev_3,k+1, fdim)\n",
        "                return main_val - 0.125 * (6*prev_1_val + 3*next_1_val - prev_3_val)\n",
        "        \n",
        "        if l[k] > 2: \n",
        "            \n",
        "            prev_1_val = alik_4d(l,i_prev_1,k+1, fdim)\n",
        "            next_1_val = alik_4d(l,i_next_1,k+1, fdim)\n",
        "            prev_3_val = alik_4d(l,i_prev_3,k+1, fdim)\n",
        "            next_3_val = alik_4d(l,i_next_3,k+1, fdim)\n",
        "            \n",
        "            if (i[k] % 8 == 1):\n",
        "                next_5_val = alik_4d(l,i_next_5,k+1, fdim)\n",
        "                next_7_val = alik_4d(l,i_next_7,k+1, fdim)\n",
        "                return main_val - 1/128 * (35*prev_1_val + 140*next_1_val - 70*next_3_val + 28*next_5_val - 5*next_7_val)\n",
        "            \n",
        "            elif (i[k] % 8 == 3):\n",
        "                next_5_val = alik_4d(l,i_next_5,k+1, fdim)\n",
        "                return main_val - 1/128 * (-5*prev_3_val + 60*prev_1_val + 90*next_1_val - 20*next_3_val + 3*next_5_val)\n",
        "            \n",
        "            elif (i[k] % 8 == 5):\n",
        "                prev_5_val = alik_4d(l,i_prev_5,k+1, fdim)\n",
        "                return main_val - 1/128 * (3*prev_5_val - 20*prev_3_val + 90*prev_1_val + 60*next_1_val - 5*next_3_val)\n",
        "            \n",
        "            elif (i[k] % 8 == 7):\n",
        "                prev_5_val = alik_4d(l,i_prev_5,k+1, fdim)\n",
        "                prev_7_val = alik_4d(l,i_prev_7,k+1, fdim)\n",
        "                return main_val - 1/128 * (-5*prev_7_val + 28*prev_5_val - 70*prev_3_val + 140*prev_1_val + 35*next_1_val)\n",
        "            \n",
        "        return main_val"
      ],
      "metadata": {
        "id": "8i-S-aZ07HNq"
      },
      "execution_count": null,
      "outputs": []
    }
  ]
}